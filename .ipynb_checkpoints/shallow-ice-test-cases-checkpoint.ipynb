{
 "cells": [
  {
   "cell_type": "code",
   "execution_count": 85,
   "id": "bef02d13-768e-4fd2-a71f-c63c947872bf",
   "metadata": {},
   "outputs": [],
   "source": [
    "import numpy as np\n",
    "import matplotlib.pyplot as plt\n",
    "\n",
    "from landlab import RasterModelGrid\n",
    "from landlab.plot import imshow_grid"
   ]
  },
  {
   "cell_type": "markdown",
   "id": "dfd52a9d-aa1f-4079-b664-f6ad98d14684",
   "metadata": {},
   "source": [
    "## Algorithm description"
   ]
  },
  {
   "cell_type": "markdown",
   "id": "cba9a903-184a-4185-97c3-0b02d60b2922",
   "metadata": {},
   "source": [
    "The conservation of mass for an isothermal, shallow, non-sliding ice mass states:\n",
    "$$\n",
    "\\frac{\\partial H}{\\partial t} = \\dot{m} + \\nabla\\cdot\\left[\\Gamma H^{n + 2}|\\nabla s|^{n - 1}\\nabla s\\right],\n",
    "$$\n",
    "where $H$ is the thickness of the ice mass, $\\dot{m}$ is the specific mass balance, $n$ is Glen's flow law exponent, and $s$ is the ice surface slope, such that $H = s - b$ for some bed elevation $b$. The coefficient $\\Gamma$ is given by:\n",
    "$$\n",
    "\\Gamma = \\frac{2A(\\rho g)^n}{n + 2}. \n",
    "$$"
   ]
  },
  {
   "cell_type": "code",
   "execution_count": 86,
   "id": "6c51e711-d349-4f69-b73f-a3563bcc8768",
   "metadata": {
    "tags": []
   },
   "outputs": [],
   "source": [
    "class ShallowIce:\n",
    "    '''This class implements a numerical solution to the shallow ice approximation.\n",
    "\n",
    "    Attributes:\n",
    "        Nx: integer - number of grid cells in the x-direction\n",
    "        Ny: integer - number of grid cells in the y-direction\n",
    "        dx: float - grid spacing in the x-direction\n",
    "        dy: float - grid spacing in the y-direction\n",
    "\n",
    "    Initialization:\n",
    "        ice_thickness: 2D array of floats - the initial ice thickness field\n",
    "        bed_elevation: 2D array of floats - the elevation of the bedrock surface\n",
    "        mass_balance: 2D array of floats - the mass balance in each grid cell\n",
    "    '''\n",
    "\n",
    "    glens_n = 3\n",
    "    glens_coeff = 3e-24\n",
    "    ice_density = 917 # kg m^-3\n",
    "    gravity = 9.81 # m s^-2\n",
    "\n",
    "    def __init__(self, Nx: int, Ny: int, dx: float, dy: float):\n",
    "        '''Initialize the model with grid cell counts and spacing in each direction.'''\n",
    "\n",
    "        # Set up the grid\n",
    "        self.grid = RasterModelGrid((Nx, Ny), (dx, dy))\n",
    "        self.Nx = Nx\n",
    "        self.Ny = Ny\n",
    "        self.dx = dx\n",
    "        self.dy = dy\n",
    "        \n",
    "        # Initialize empty fields\n",
    "        self.grid.add_empty('ice_thickness', at = 'node')\n",
    "        self.grid.add_empty('bed_elevation', at = 'node')\n",
    "        self.grid.add_empty('ice_surface', at = 'node')\n",
    "        self.grid.add_empty('mass_balance', at = 'node')\n",
    "        self.grid.add_empty('ice_flux', at = 'link')\n",
    "\n",
    "        # Set initial conditons\n",
    "        self.calc_fluidity()\n",
    "\n",
    "        # Simulation variables\n",
    "        self.time_elapsed = 0.0 # seconds\n",
    "        self.time_step = 0.0 # seconds\n",
    "\n",
    "    def calc_fluidity(self):\n",
    "        '''Calculate the fluidity of the ice.'''\n",
    "        self.fluidity = (2 * self.glens_coeff * (self.ice_density * self.gravity)**self.glens_n) / (self.glens_n + 2)\n",
    "\n",
    "    def update_surface(self):\n",
    "        '''Ensure that the ice thickness is non-negative, then updates the ice surface elevation.'''\n",
    "\n",
    "        # Ensure the ice thickness is non-negative everywhere\n",
    "        self.grid.at_node['ice_thickness'][:] = np.where(self.grid.at_node['ice_thickness'][:] >= 0, self.grid.at_node['ice_thickness'][:], 0.0)\n",
    "\n",
    "        # Update the ice surface elevation\n",
    "        self.grid.at_node['ice_surface'][:] = self.grid.at_node['ice_thickness'][:] - self.grid.at_node['bed_elevation'][:]\n",
    "\n",
    "    def calc_time_step(self, CFL: float):\n",
    "        '''Estimate the stable time step from a CFL condition.'''\n",
    "        self.calc_flux()\n",
    "        self.divergence = self.grid.calc_flux_div_at_node('ice_flux')\n",
    "\n",
    "        self.time_step = (CFL * self.dx * self.dy) / np.max(self.divergence[:])\n",
    "\n",
    "    def calc_flux(self):\n",
    "        '''Calculate the ice flux at links between each grid cell.'''\n",
    "\n",
    "        # Compute the gradient of the ice surface at links\n",
    "        gradient_links = self.grid.calc_grad_at_link('ice_surface')\n",
    "\n",
    "        # Map ice thickness onto links\n",
    "        thickness_links = self.grid.map_mean_of_link_nodes_to_link('ice_thickness')**5\n",
    "\n",
    "        # Compute the ice flux\n",
    "        diffusivity = self.fluidity * thickness_links * np.abs(gradient_links)**(self.glens_n - 1)\n",
    "        self.grid.at_link['ice_flux'] = diffusivity * gradient_links\n",
    "\n",
    "    def run_one_euler(self, dt: float):\n",
    "        '''Run one time step of length dt, using a forward Euler algorithm.'''\n",
    "\n",
    "        # Calculate the ice flux\n",
    "        self.calc_flux()\n",
    "\n",
    "        # Compute the divergence of ice flux\n",
    "        self.divergence = self.grid.calc_flux_div_at_node('ice_flux')\n",
    "\n",
    "        # New ice thickness = old ice thickness + time derivative of ice thickness * dt\n",
    "        self.change_in_thickness = self.grid.at_node['mass_balance'] + self.divergence\n",
    "        self.grid.at_node['ice_thickness'][:] += self.change_in_thickness * dt\n",
    "\n",
    "        # Update the ice surface elevation and time elapsed\n",
    "        self.update_surface()\n",
    "        self.time_elapsed += dt\n",
    "\n",
    "    def calc_flux_midpont(self, midpoint_thickness):\n",
    "        '''Calculate the ice flux given a new ice thickness, e.g., during the RK4 algorithm.'''\n",
    "\n",
    "        # Ensure the thickness is non-negative everywhere\n",
    "        midpoint_thickness = np.where(midpoint_thickness >= 0, midpoint_thickness, 0.0)\n",
    "\n",
    "        # Map the new thickness onto links\n",
    "        midpoint_thickness_links = self.grid.map_mean_of_link_nodes_to_link(midpoint_thickness)**5\n",
    "\n",
    "        # Update the surface elevation and gradient\n",
    "        midpoint_surface = midpoint_thickness - self.grid.at_node['bed_elevation'][:]\n",
    "        midpoint_gradient = self.grid.calc_grad_at_link(midpoint_surface)\n",
    "\n",
    "        # Compute the ice flux and divergence\n",
    "        midpoint_diffusivity = self.fluidity * midpoint_thickness_links * np.abs(midpoint_gradient)**(self.glens_n - 1)\n",
    "        midpoint_ice_flux = midpoint_diffusivity * midpoint_gradient\n",
    "        midpoint_divergence = self.grid.calc_flux_div_at_node(midpoint_ice_flux)\n",
    "\n",
    "        return midpoint_divergence\n",
    "\n",
    "    def run_one_rk4(self, dt: float, updated_mass_balance = None):\n",
    "        '''Run one time step of length dt, using a fourth-order Runge-Kutta algorithm.'''\n",
    "\n",
    "        # Calculate the divergence of ice flux at the beginning of the time step\n",
    "        self.calc_flux()\n",
    "        self.divergence = self.grid.calc_flux_div_at_node('ice_flux')\n",
    "\n",
    "        # Interpolate the mass balance at the midpoint\n",
    "        if updated_mass_balance != None:\n",
    "            startpoint_mass_balance = self.grid.at_node['mass_balance'][:].copy()\n",
    "            endpoint_mass_balance = updated_mass_balance[:].copy()\n",
    "            midpoint_mass_balance = (startpoint_mass_balance - endpoint_mass_balance) / 2\n",
    "        else:\n",
    "            startpoint_mass_balance = self.grid.at_node['mass_balance'][:].copy()\n",
    "            endpoint_mass_balance = self.grid.at_node['mass_balance'][:].copy()\n",
    "            midpoint_mass_balance = self.grid.at_node['mass_balance'][:].copy()\n",
    "\n",
    "        # Calculate the time derivative of ice thickness at the beginning of the time step\n",
    "        k1 = self.grid.at_node['mass_balance'] + self.divergence\n",
    "\n",
    "        # Calculate the time derivative of ice thickness at the midpoint, using k1\n",
    "        ice_thickness_k2 = self.grid.at_node['ice_thickness'][:].copy() + (k1 * dt / 2)\n",
    "        k2 = midpoint_mass_balance + self.calc_flux_midpont(ice_thickness_k2)\n",
    "\n",
    "        # Calculate the time derivative of ice thickness at the midpoint, using k2\n",
    "        ice_thickness_k3 = self.grid.at_node['ice_thickness'][:].copy() + (k2 * dt / 2)\n",
    "        k3 = midpoint_mass_balance + self.calc_flux_midpont(ice_thickness_k3)\n",
    "\n",
    "        # Calculate the time derivative of ice thickness at the endpoint of the time step\n",
    "        ice_thickness_k4 = self.grid.at_node['ice_thickness'][:].copy() + (k3 * dt)\n",
    "        k4 = endpoint_mass_balance + self.calc_flux_midpont(ice_thickness_k4)\n",
    "\n",
    "        # Use a weighted sum of k1-k4 to estimate the new ice thickness\n",
    "        self.grid.at_node['ice_thickness'][:] += dt * (k1 + 2 * k2 + 2 * k3 + k4) / 6\n",
    "        self.update_surface()\n",
    "        self.time_elapsed += dt"
   ]
  },
  {
   "cell_type": "markdown",
   "id": "ad6291ff-ad24-4785-b280-9b47eeb156b1",
   "metadata": {},
   "source": [
    "## Test suite"
   ]
  },
  {
   "cell_type": "markdown",
   "id": "82830b79-a518-43f1-b866-3f3c5c23c783",
   "metadata": {},
   "source": [
    "The test suite follows the experiments outlined by Bueler and others: \n",
    "\n",
    "Bueler, E., Lingle, C. S., Kallen-Brown, J. A., Covey, D. N., & Bowman, L. N. (2005). Exact solutions and verification of numerical models for isothermal ice sheets. Journal of Glaciology, 51(173), 291-306."
   ]
  },
  {
   "cell_type": "markdown",
   "id": "f2a156b0-cd0c-48b3-860b-f854bf049bcf",
   "metadata": {},
   "source": [
    "### A) Steady-state, constant accumulation"
   ]
  },
  {
   "cell_type": "code",
   "execution_count": 87,
   "id": "b990750d-25e4-45d4-8475-749715d85e8c",
   "metadata": {
    "jupyter": {
     "source_hidden": true
    },
    "tags": []
   },
   "outputs": [],
   "source": [
    "def fracpower(q, p):\n",
    "    return np.abs(q)**p * np.sign(q)"
   ]
  },
  {
   "cell_type": "code",
   "execution_count": 127,
   "id": "622cc4d7-52e4-475a-902b-cdebfc91744c",
   "metadata": {
    "tags": []
   },
   "outputs": [],
   "source": [
    "sec_per_a = 3.14e7\n",
    "M0 = 0.3 * (1 / sec_per_a) # m a^-1\n",
    "L = 750e3\n",
    "\n",
    "Nx = 100\n",
    "Ny = 100\n",
    "dx = 10000\n",
    "dy = 10000\n",
    "\n",
    "sia = ShallowIce(Nx, Ny, dx, dy)\n",
    "sia.calc_fluidity()\n",
    "\n",
    "origin = [0, 0]\n",
    "radius = np.sqrt((sia.grid.node_x - origin[0])**2 + (sia.grid.node_y - origin[1])**2)\n",
    "\n",
    "initial_height = (2**2 * M0 / sia.fluidity)**(1 / 8) * fracpower(L**(4/3) - radius**(4/3), 3 / 8)\n",
    "sia.grid.at_node['ice_thickness'][:] = initial_height\n",
    "sia.grid.at_node['bed_elevation'][:] = 0.0\n",
    "sia.grid.at_node['mass_balance'][:] = M0\n",
    "sia.update_surface()\n",
    "\n",
    "sia.grid.set_closed_boundaries_at_grid_edges(True, True, True, True)"
   ]
  },
  {
   "cell_type": "code",
   "execution_count": 128,
   "id": "b1d7724e-876e-42ba-9556-5a3f07053d44",
   "metadata": {
    "jupyter": {
     "source_hidden": true
    },
    "tags": []
   },
   "outputs": [
    {
     "data": {
      "image/png": "[encoded data removed]",
      "text/plain": [
       "<Figure size 576x576 with 2 Axes>"
      ]
     },
     "metadata": {
      "needs_background": "light"
     },
     "output_type": "display_data"
    }
   ],
   "source": [
    "fig, ax = plt.subplots(figsize = (8, 8))\n",
    "imshow_grid(sia.grid, 'ice_thickness')"
   ]
  },
  {
   "cell_type": "code",
   "execution_count": null,
   "id": "a0e59e9c-7372-4764-9bb3-ba0096a87c62",
   "metadata": {
    "tags": []
   },
   "outputs": [
    {
     "name": "stdout",
     "output_type": "stream",
     "text": [
      "Completed 0 time steps.\n"
     ]
    }
   ],
   "source": [
    "nt = 2500\n",
    "dt = 60 * 60 * 24 * 100\n",
    "\n",
    "profiles = np.empty((int(nt / 10) + 1, sia.Nx))\n",
    "\n",
    "for t in range(nt):\n",
    "    \n",
    "    sia.run_one_rk4(dt)\n",
    "    \n",
    "    if t % 10 == 0:\n",
    "        profiles[int(t / 10)] = np.diagonal(sia.grid.node_vector_to_raster(sia.grid.at_node['ice_surface']))\n",
    "    \n",
    "    if t % 100 == 0:\n",
    "        print('Completed ' + str(t) + ' time steps.')\n",
    "    \n",
    "print('Time elapsed: ' + str(sia.time_elapsed * 3.14e-8) + ' years.')"
   ]
  },
  {
   "cell_type": "code",
   "execution_count": 111,
   "id": "b78e14db-c93d-41fc-a046-3290378a19e0",
   "metadata": {
    "tags": []
   },
   "outputs": [
    {
     "data": {
      "image/png": "[encoded data removed]",
      "text/plain": [
       "<Figure size 576x576 with 2 Axes>"
      ]
     },
     "metadata": {
      "needs_background": "light"
     },
     "output_type": "display_data"
    }
   ],
   "source": [
    "fig, ax = plt.subplots(figsize = (8, 8))\n",
    "imshow_grid(sia.grid, 'ice_thickness')"
   ]
  },
  {
   "cell_type": "markdown",
   "id": "95155a70-f502-446b-9a29-f48a81b1e830",
   "metadata": {},
   "source": [
    "### B) Similarity solution with moving margin and zero accumulation"
   ]
  },
  {
   "cell_type": "markdown",
   "id": "2314f90e-5878-48d8-a1d4-984bb2772d1d",
   "metadata": {},
   "source": [
    "### C) Similarity solution with no initial ice thickness"
   ]
  },
  {
   "cell_type": "code",
   "execution_count": null,
   "id": "e7b137ca-1d91-4b75-abe4-dc1444743745",
   "metadata": {},
   "outputs": [],
   "source": []
  },
  {
   "cell_type": "markdown",
   "id": "6e2e79cf-3521-437b-aa8a-3829e4300e15",
   "metadata": {},
   "source": [
    "### D) Oscillating accumulation"
   ]
  },
  {
   "cell_type": "markdown",
   "id": "29e346d0-d775-497e-8a27-190ff85b21d2",
   "metadata": {},
   "source": [
    "### E) Steady-state with linear basal sliding"
   ]
  }
 ],
 "metadata": {
  "kernelspec": {
   "display_name": "Python 3 (ipykernel)",
   "language": "python",
   "name": "python3"
  },
  "language_info": {
   "codemirror_mode": {
    "name": "ipython",
    "version": 3
   },
   "file_extension": ".py",
   "mimetype": "text/x-python",
   "name": "python",
   "nbconvert_exporter": "python",
   "pygments_lexer": "ipython3",
   "version": "3.10.4"
  }
 },
 "nbformat": 4,
 "nbformat_minor": 5
}
