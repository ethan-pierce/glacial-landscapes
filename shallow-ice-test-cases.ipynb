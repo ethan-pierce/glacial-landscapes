{
 "cells": [
  {
   "cell_type": "code",
   "execution_count": 1,
   "id": "bef02d13-768e-4fd2-a71f-c63c947872bf",
   "metadata": {},
   "outputs": [],
   "source": [
    "import numpy as np\n",
    "import matplotlib.pyplot as plt\n",
    "\n",
    "from landlab import RasterModelGrid\n",
    "from landlab.plot import imshow_grid"
   ]
  },
  {
   "cell_type": "markdown",
   "id": "dfd52a9d-aa1f-4079-b664-f6ad98d14684",
   "metadata": {},
   "source": [
    "## Algorithm description"
   ]
  },
  {
   "cell_type": "markdown",
   "id": "cba9a903-184a-4185-97c3-0b02d60b2922",
   "metadata": {},
   "source": [
    "The conservation of mass for an isothermal, shallow, non-sliding ice mass states:\n",
    "$$\n",
    "\\frac{\\partial H}{\\partial t} = \\dot{m} + \\nabla\\cdot\\left[\\Gamma H^{n + 2}|\\nabla s|^{n - 1}\\nabla s\\right],\n",
    "$$\n",
    "where $H$ is the thickness of the ice mass, $\\dot{m}$ is the specific mass balance, $n$ is Glen's flow law exponent, and $s$ is the ice surface slope, such that $H = s - b$ for some bed elevation $b$. The coefficient $\\Gamma$ is given by:\n",
    "$$\n",
    "\\Gamma = \\frac{2A(\\rho g)^n}{n + 2}. \n",
    "$$"
   ]
  },
  {
   "cell_type": "code",
   "execution_count": 7,
   "id": "6c51e711-d349-4f69-b73f-a3563bcc8768",
   "metadata": {
    "jupyter": {
     "source_hidden": true
    },
    "tags": []
   },
   "outputs": [],
   "source": [
    "class ShallowIce:\n",
    "    '''This class implements a numerical solution to the shallow ice approximation.\n",
    "\n",
    "    Attributes:\n",
    "        Nx: integer - number of grid cells in the x-direction\n",
    "        Ny: integer - number of grid cells in the y-direction\n",
    "        dx: float - grid spacing in the x-direction\n",
    "        dy: float - grid spacing in the y-direction\n",
    "\n",
    "    Initialization:\n",
    "        ice_thickness: 2D array of floats - the initial ice thickness field\n",
    "        bed_elevation: 2D array of floats - the elevation of the bedrock surface\n",
    "        mass_balance: 2D array of floats - the mass balance in each grid cell\n",
    "    '''\n",
    "\n",
    "    glens_n = 3\n",
    "    glens_coeff = 3e-24\n",
    "    ice_density = 917 # kg m^-3\n",
    "    gravity = 9.81 # m s^-2\n",
    "\n",
    "    def __init__(self, Nx: int, Ny: int, dx: float, dy: float):\n",
    "        '''Initialize the model with grid cell counts and spacing in each direction.'''\n",
    "\n",
    "        # Set up the grid\n",
    "        self.grid = RasterModelGrid((Nx, Ny), (dx, dy))\n",
    "        self.Nx = Nx\n",
    "        self.Ny = Ny\n",
    "        self.dx = dx\n",
    "        self.dy = dy\n",
    "        \n",
    "        # Initialize empty fields\n",
    "        self.grid.add_empty('ice_thickness', at = 'node')\n",
    "        self.grid.add_empty('bed_elevation', at = 'node')\n",
    "        self.grid.add_empty('ice_surface', at = 'node')\n",
    "        self.grid.add_empty('mass_balance', at = 'node')\n",
    "        self.grid.add_empty('ice_flux', at = 'link')\n",
    "\n",
    "        # Set initial conditons\n",
    "        self.calc_fluidity()\n",
    "\n",
    "        # Simulation variables\n",
    "        self.time_elapsed = 0.0 # seconds\n",
    "        self.time_step = 0.0 # seconds\n",
    "\n",
    "    def calc_fluidity(self):\n",
    "        '''Calculate the fluidity of the ice.'''\n",
    "        self.fluidity = (2 * self.glens_coeff * (self.ice_density * self.gravity)**self.glens_n) / (self.glens_n + 2)\n",
    "\n",
    "    def update_surface(self):\n",
    "        '''Ensure that the ice thickness is non-negative, then updates the ice surface elevation.'''\n",
    "\n",
    "        # Ensure the ice thickness is non-negative everywhere\n",
    "        self.grid.at_node['ice_thickness'][:] = np.where(self.grid.at_node['ice_thickness'][:] >= 0, self.grid.at_node['ice_thickness'][:], 0.0)\n",
    "\n",
    "        # Update the ice surface elevation\n",
    "        self.grid.at_node['ice_surface'][:] = self.grid.at_node['ice_thickness'][:] - self.grid.at_node['bed_elevation'][:]\n",
    "\n",
    "    def calc_time_step(self, CFL: float):\n",
    "        '''Estimate the stable time step from a CFL condition.'''\n",
    "        self.calc_flux()\n",
    "        self.divergence = self.grid.calc_flux_div_at_node('ice_flux')\n",
    "\n",
    "        self.time_step = (CFL * self.dx * self.dy) / np.max(self.divergence[:])\n",
    "\n",
    "    def calc_flux(self):\n",
    "        '''Calculate the ice flux at links between each grid cell.'''\n",
    "\n",
    "        # Compute the gradient of the ice surface at links\n",
    "        gradient_links = self.grid.calc_grad_at_link('ice_surface')\n",
    "\n",
    "        # Map ice thickness onto links\n",
    "        thickness_links = self.grid.map_mean_of_link_nodes_to_link('ice_thickness')**5\n",
    "\n",
    "        # Compute the ice flux\n",
    "        diffusivity = self.fluidity * thickness_links * np.abs(gradient_links)**(self.glens_n - 1)\n",
    "        self.grid.at_link['ice_flux'] = diffusivity * gradient_links\n",
    "\n",
    "    def run_one_euler(self, dt: float):\n",
    "        '''Run one time step of length dt, using a forward Euler algorithm.'''\n",
    "\n",
    "        # Calculate the ice flux\n",
    "        self.calc_flux()\n",
    "\n",
    "        # Compute the divergence of ice flux\n",
    "        self.divergence = self.grid.calc_flux_div_at_node('ice_flux')\n",
    "\n",
    "        # New ice thickness = old ice thickness + time derivative of ice thickness * dt\n",
    "        self.change_in_thickness = self.grid.at_node['mass_balance'] + self.divergence\n",
    "        self.grid.at_node['ice_thickness'][:] += self.change_in_thickness * dt\n",
    "\n",
    "        # Update the ice surface elevation and time elapsed\n",
    "        self.update_surface()\n",
    "        self.time_elapsed += dt\n",
    "\n",
    "    def calc_flux_midpont(self, midpoint_thickness):\n",
    "        '''Calculate the ice flux given a new ice thickness, e.g., during the RK4 algorithm.'''\n",
    "\n",
    "        # Ensure the thickness is non-negative everywhere\n",
    "        midpoint_thickness = np.where(midpoint_thickness >= 0, midpoint_thickness, 0.0)\n",
    "\n",
    "        # Map the new thickness onto links\n",
    "        midpoint_thickness_links = self.grid.map_mean_of_link_nodes_to_link(midpoint_thickness)**5\n",
    "\n",
    "        # Update the surface elevation and gradient\n",
    "        midpoint_surface = midpoint_thickness - self.grid.at_node['bed_elevation'][:]\n",
    "        midpoint_gradient = self.grid.calc_grad_at_link(midpoint_surface)\n",
    "\n",
    "        # Compute the ice flux and divergence\n",
    "        midpoint_diffusivity = self.fluidity * midpoint_thickness_links * np.abs(midpoint_gradient)**(self.glens_n - 1)\n",
    "        midpoint_ice_flux = midpoint_diffusivity * midpoint_gradient\n",
    "        midpoint_divergence = self.grid.calc_flux_div_at_node(midpoint_ice_flux)\n",
    "\n",
    "        return midpoint_divergence\n",
    "\n",
    "    def run_one_rk4(self, dt: float, updated_mass_balance = None):\n",
    "        '''Run one time step of length dt, using a fourth-order Runge-Kutta algorithm.'''\n",
    "\n",
    "        # Calculate the divergence of ice flux at the beginning of the time step\n",
    "        self.calc_flux()\n",
    "        self.divergence = self.grid.calc_flux_div_at_node('ice_flux')\n",
    "\n",
    "        # Interpolate the mass balance at the midpoint\n",
    "        if updated_mass_balance != None:\n",
    "            startpoint_mass_balance = self.grid.at_node['mass_balance'][:].copy()\n",
    "            endpoint_mass_balance = updated_mass_balance[:].copy()\n",
    "            midpoint_mass_balance = (startpoint_mass_balance - endpoint_mass_balance) / 2\n",
    "        else:\n",
    "            startpoint_mass_balance = self.grid.at_node['mass_balance'][:].copy()\n",
    "            endpoint_mass_balance = self.grid.at_node['mass_balance'][:].copy()\n",
    "            midpoint_mass_balance = self.grid.at_node['mass_balance'][:].copy()\n",
    "\n",
    "        # Calculate the time derivative of ice thickness at the beginning of the time step\n",
    "        k1 = self.grid.at_node['mass_balance'] + self.divergence\n",
    "\n",
    "        # Calculate the time derivative of ice thickness at the midpoint, using k1\n",
    "        ice_thickness_k2 = self.grid.at_node['ice_thickness'][:].copy() + (k1 * dt / 2)\n",
    "        k2 = midpoint_mass_balance + self.calc_flux_midpont(ice_thickness_k2)\n",
    "\n",
    "        # Calculate the time derivative of ice thickness at the midpoint, using k2\n",
    "        ice_thickness_k3 = self.grid.at_node['ice_thickness'][:].copy() + (k2 * dt / 2)\n",
    "        k3 = midpoint_mass_balance + self.calc_flux_midpont(ice_thickness_k3)\n",
    "\n",
    "        # Calculate the time derivative of ice thickness at the endpoint of the time step\n",
    "        ice_thickness_k4 = self.grid.at_node['ice_thickness'][:].copy() + (k3 * dt)\n",
    "        k4 = endpoint_mass_balance + self.calc_flux_midpont(ice_thickness_k4)\n",
    "\n",
    "        # Use a weighted sum of k1-k4 to estimate the new ice thickness\n",
    "        self.grid.at_node['ice_thickness'] += dt * (k1 + 2 * k2 + 2 * k3 + k4) / 6\n",
    "        self.update_surface()\n",
    "        self.time_elapsed += dt"
   ]
  },
  {
   "cell_type": "markdown",
   "id": "ad6291ff-ad24-4785-b280-9b47eeb156b1",
   "metadata": {},
   "source": [
    "## Test suite"
   ]
  },
  {
   "cell_type": "markdown",
   "id": "82830b79-a518-43f1-b866-3f3c5c23c783",
   "metadata": {},
   "source": [
    "The test suite follows the experiments outlined by Bueler and others: \n",
    "\n",
    "Bueler, E., Lingle, C. S., Kallen-Brown, J. A., Covey, D. N., & Bowman, L. N. (2005). Exact solutions and verification of numerical models for isothermal ice sheets. Journal of Glaciology, 51(173), 291-306."
   ]
  },
  {
   "cell_type": "markdown",
   "id": "f2a156b0-cd0c-48b3-860b-f854bf049bcf",
   "metadata": {},
   "source": [
    "### A) Steady-state, constant accumulation"
   ]
  },
  {
   "cell_type": "code",
   "execution_count": 8,
   "id": "b990750d-25e4-45d4-8475-749715d85e8c",
   "metadata": {},
   "outputs": [],
   "source": [
    "def fracpower(q, p):\n",
    "    return np.abs(q)**p * np.sign(q)"
   ]
  },
  {
   "cell_type": "code",
   "execution_count": 63,
   "id": "622cc4d7-52e4-475a-902b-cdebfc91744c",
   "metadata": {},
   "outputs": [],
   "source": [
    "sec_per_a = 3.14e7\n",
    "M0 = 0.3 * (1 / sec_per_a) # m a^-1\n",
    "L = 750e3\n",
    "\n",
    "Nx = 100\n",
    "Ny = 100\n",
    "dx = 10000\n",
    "dy = 10000\n",
    "\n",
    "sia = ShallowIce(Nx, Ny, dx, dy)\n",
    "sia.calc_fluidity()\n",
    "\n",
    "origin = [0, 0]\n",
    "radius = np.sqrt((sia.grid.node_x - origin[0])**2 + (sia.grid.node_y - origin[1])**2)\n",
    "\n",
    "initial_height = (2**2 * M0 / sia.fluidity)**(1 / 8) * fracpower(L**(4/3) - radius**(4/3), 3 / 8)\n",
    "sia.grid.at_node['ice_thickness'][:] = initial_height\n",
    "sia.grid.at_node['bed_elevation'][:] = 0.0\n",
    "sia.grid.at_node['mass_balance'][:] = M0\n",
    "sia.update_surface()"
   ]
  },
  {
   "cell_type": "code",
   "execution_count": 64,
   "id": "b1d7724e-876e-42ba-9556-5a3f07053d44",
   "metadata": {},
   "outputs": [
    {
     "data": {
      "image/png": "[encoded data removed]",
      "text/plain": [
       "<Figure size 576x576 with 2 Axes>"
      ]
     },
     "metadata": {
      "needs_background": "light"
     },
     "output_type": "display_data"
    }
   ],
   "source": [
    "fig, ax = plt.subplots(figsize = (8, 8))\n",
    "imshow_grid(sia.grid, 'ice_thickness')"
   ]
  },
  {
   "cell_type": "code",
   "execution_count": 65,
   "id": "d04e77b8-b76f-4125-b9d9-518d86dc78d6",
   "metadata": {},
   "outputs": [],
   "source": [
    "profiles = []\n",
    "profiles.append(np.diagonal(sia.grid.node_vector_to_raster(sia.grid.at_node['ice_surface']))[int(sia.Nx / 4):])"
   ]
  },
  {
   "cell_type": "code",
   "execution_count": 66,
   "id": "1ce36035-201b-4b90-b342-56cc68bc526e",
   "metadata": {},
   "outputs": [
    {
     "data": {
      "image/png": "[encoded data removed]",
      "text/plain": [
       "<Figure size 432x288 with 1 Axes>"
      ]
     },
     "metadata": {
      "needs_background": "light"
     },
     "output_type": "display_data"
    }
   ],
   "source": [
    "plt.plot(profiles[0])\n",
    "plt.show()"
   ]
  },
  {
   "cell_type": "code",
   "execution_count": 68,
   "id": "a0e59e9c-7372-4764-9bb3-ba0096a87c62",
   "metadata": {},
   "outputs": [
    {
     "name": "stdout",
     "output_type": "stream",
     "text": [
      "Completed 0 time steps.\n",
      "Completed 100 time steps.\n",
      "Completed 200 time steps.\n",
      "Completed 300 time steps.\n",
      "Completed 400 time steps.\n",
      "Completed 500 time steps.\n"
     ]
    },
    {
     "ename": "KeyboardInterrupt",
     "evalue": "",
     "output_type": "error",
     "traceback": [
      "\u001b[0;31m---------------------------------------------------------------------------\u001b[0m",
      "\u001b[0;31mKeyboardInterrupt\u001b[0m                         Traceback (most recent call last)",
      "Input \u001b[0;32mIn [68]\u001b[0m, in \u001b[0;36m<cell line: 7>\u001b[0;34m()\u001b[0m\n\u001b[1;32m      5\u001b[0m profiles \u001b[38;5;241m=\u001b[39m []\n\u001b[1;32m      7\u001b[0m \u001b[38;5;28;01mwhile\u001b[39;00m (sia\u001b[38;5;241m.\u001b[39mtime_elapsed \u001b[38;5;241m*\u001b[39m \u001b[38;5;241m3.14e-8\u001b[39m) \u001b[38;5;241m<\u001b[39m final_t:\n\u001b[0;32m----> 9\u001b[0m     \u001b[43msia\u001b[49m\u001b[38;5;241;43m.\u001b[39;49m\u001b[43mrun_one_rk4\u001b[49m\u001b[43m(\u001b[49m\u001b[43mdt\u001b[49m\u001b[43m)\u001b[49m\n\u001b[1;32m     11\u001b[0m     profiles\u001b[38;5;241m.\u001b[39mappend(np\u001b[38;5;241m.\u001b[39mdiagonal(sia\u001b[38;5;241m.\u001b[39mgrid\u001b[38;5;241m.\u001b[39mnode_vector_to_raster(sia\u001b[38;5;241m.\u001b[39mgrid\u001b[38;5;241m.\u001b[39mat_node[\u001b[38;5;124m'\u001b[39m\u001b[38;5;124mice_surface\u001b[39m\u001b[38;5;124m'\u001b[39m]))[\u001b[38;5;28mint\u001b[39m(sia\u001b[38;5;241m.\u001b[39mNx \u001b[38;5;241m/\u001b[39m \u001b[38;5;241m4\u001b[39m):])\n\u001b[1;32m     13\u001b[0m     \u001b[38;5;28;01mif\u001b[39;00m count \u001b[38;5;241m%\u001b[39m \u001b[38;5;241m100\u001b[39m \u001b[38;5;241m==\u001b[39m \u001b[38;5;241m0\u001b[39m:\n",
      "Input \u001b[0;32mIn [7]\u001b[0m, in \u001b[0;36mShallowIce.run_one_rk4\u001b[0;34m(self, dt, updated_mass_balance)\u001b[0m\n\u001b[1;32m    135\u001b[0m \u001b[38;5;66;03m# Calculate the time derivative of ice thickness at the midpoint, using k1\u001b[39;00m\n\u001b[1;32m    136\u001b[0m ice_thickness_k2 \u001b[38;5;241m=\u001b[39m \u001b[38;5;28mself\u001b[39m\u001b[38;5;241m.\u001b[39mgrid\u001b[38;5;241m.\u001b[39mat_node[\u001b[38;5;124m'\u001b[39m\u001b[38;5;124mice_thickness\u001b[39m\u001b[38;5;124m'\u001b[39m][:]\u001b[38;5;241m.\u001b[39mcopy() \u001b[38;5;241m+\u001b[39m (k1 \u001b[38;5;241m*\u001b[39m dt \u001b[38;5;241m/\u001b[39m \u001b[38;5;241m2\u001b[39m)\n\u001b[0;32m--> 137\u001b[0m k2 \u001b[38;5;241m=\u001b[39m midpoint_mass_balance \u001b[38;5;241m+\u001b[39m \u001b[38;5;28;43mself\u001b[39;49m\u001b[38;5;241;43m.\u001b[39;49m\u001b[43mcalc_flux_midpont\u001b[49m\u001b[43m(\u001b[49m\u001b[43mice_thickness_k2\u001b[49m\u001b[43m)\u001b[49m\n\u001b[1;32m    139\u001b[0m \u001b[38;5;66;03m# Calculate the time derivative of ice thickness at the midpoint, using k2\u001b[39;00m\n\u001b[1;32m    140\u001b[0m ice_thickness_k3 \u001b[38;5;241m=\u001b[39m \u001b[38;5;28mself\u001b[39m\u001b[38;5;241m.\u001b[39mgrid\u001b[38;5;241m.\u001b[39mat_node[\u001b[38;5;124m'\u001b[39m\u001b[38;5;124mice_thickness\u001b[39m\u001b[38;5;124m'\u001b[39m][:]\u001b[38;5;241m.\u001b[39mcopy() \u001b[38;5;241m+\u001b[39m (k2 \u001b[38;5;241m*\u001b[39m dt \u001b[38;5;241m/\u001b[39m \u001b[38;5;241m2\u001b[39m)\n",
      "Input \u001b[0;32mIn [7]\u001b[0m, in \u001b[0;36mShallowIce.calc_flux_midpont\u001b[0;34m(self, midpoint_thickness)\u001b[0m\n\u001b[1;32m    109\u001b[0m midpoint_diffusivity \u001b[38;5;241m=\u001b[39m \u001b[38;5;28mself\u001b[39m\u001b[38;5;241m.\u001b[39mfluidity \u001b[38;5;241m*\u001b[39m midpoint_thickness_links \u001b[38;5;241m*\u001b[39m np\u001b[38;5;241m.\u001b[39mabs(midpoint_gradient)\u001b[38;5;241m*\u001b[39m\u001b[38;5;241m*\u001b[39m(\u001b[38;5;28mself\u001b[39m\u001b[38;5;241m.\u001b[39mglens_n \u001b[38;5;241m-\u001b[39m \u001b[38;5;241m1\u001b[39m)\n\u001b[1;32m    110\u001b[0m midpoint_ice_flux \u001b[38;5;241m=\u001b[39m midpoint_diffusivity \u001b[38;5;241m*\u001b[39m midpoint_gradient\n\u001b[0;32m--> 111\u001b[0m midpoint_divergence \u001b[38;5;241m=\u001b[39m \u001b[38;5;28;43mself\u001b[39;49m\u001b[38;5;241;43m.\u001b[39;49m\u001b[43mgrid\u001b[49m\u001b[38;5;241;43m.\u001b[39;49m\u001b[43mcalc_flux_div_at_node\u001b[49m\u001b[43m(\u001b[49m\u001b[43mmidpoint_ice_flux\u001b[49m\u001b[43m)\u001b[49m\n\u001b[1;32m    113\u001b[0m \u001b[38;5;28;01mreturn\u001b[39;00m midpoint_divergence\n",
      "File \u001b[0;32m~/.virtualenvs/landlab/lib/python3.10/site-packages/landlab/utils/decorators.py:226\u001b[0m, in \u001b[0;36muse_field_name_or_array.__call__.<locals>._wrapped\u001b[0;34m(grid, vals, *args, **kwds)\u001b[0m\n\u001b[1;32m    223\u001b[0m \u001b[38;5;28;01melse\u001b[39;00m:\n\u001b[1;32m    224\u001b[0m     vals \u001b[38;5;241m=\u001b[39m np\u001b[38;5;241m.\u001b[39masarray(vals)\u001b[38;5;241m.\u001b[39mflatten()\n\u001b[0;32m--> 226\u001b[0m \u001b[38;5;28;01mreturn\u001b[39;00m \u001b[43mfunc\u001b[49m\u001b[43m(\u001b[49m\u001b[43mgrid\u001b[49m\u001b[43m,\u001b[49m\u001b[43m \u001b[49m\u001b[43mvals\u001b[49m\u001b[43m,\u001b[49m\u001b[43m \u001b[49m\u001b[38;5;241;43m*\u001b[39;49m\u001b[43margs\u001b[49m\u001b[43m,\u001b[49m\u001b[43m \u001b[49m\u001b[38;5;241;43m*\u001b[39;49m\u001b[38;5;241;43m*\u001b[39;49m\u001b[43mkwds\u001b[49m\u001b[43m)\u001b[49m\n",
      "File \u001b[0;32m~/.virtualenvs/landlab/lib/python3.10/site-packages/landlab/grid/divergence.py:69\u001b[0m, in \u001b[0;36mcalc_flux_div_at_node\u001b[0;34m(grid, unit_flux, out)\u001b[0m\n\u001b[1;32m     66\u001b[0m \u001b[38;5;28;01melif\u001b[39;00m out\u001b[38;5;241m.\u001b[39msize \u001b[38;5;241m!=\u001b[39m grid\u001b[38;5;241m.\u001b[39mnumber_of_nodes:\n\u001b[1;32m     67\u001b[0m     \u001b[38;5;28;01mraise\u001b[39;00m \u001b[38;5;167;01mValueError\u001b[39;00m(\u001b[38;5;124m\"\u001b[39m\u001b[38;5;124moutput buffer length mismatch with number of nodes\u001b[39m\u001b[38;5;124m\"\u001b[39m)\n\u001b[0;32m---> 69\u001b[0m out[\u001b[43mgrid\u001b[49m\u001b[38;5;241;43m.\u001b[39;49m\u001b[43mnode_at_cell\u001b[49m] \u001b[38;5;241m=\u001b[39m (\n\u001b[1;32m     70\u001b[0m     _calc_net_face_flux_at_cell(grid, unit_flux[grid\u001b[38;5;241m.\u001b[39mlink_at_face])\n\u001b[1;32m     71\u001b[0m     \u001b[38;5;241m/\u001b[39m grid\u001b[38;5;241m.\u001b[39marea_of_cell\n\u001b[1;32m     72\u001b[0m )\n\u001b[1;32m     74\u001b[0m \u001b[38;5;28;01mreturn\u001b[39;00m out\n",
      "File \u001b[0;32m~/.virtualenvs/landlab/lib/python3.10/site-packages/landlab/graph/dual.py:52\u001b[0m, in \u001b[0;36mDualGraph.node_at_cell\u001b[0;34m(self)\u001b[0m\n\u001b[1;32m     48\u001b[0m \u001b[38;5;129m@property\u001b[39m\n\u001b[1;32m     49\u001b[0m \u001b[38;5;28;01mdef\u001b[39;00m \u001b[38;5;21mdual\u001b[39m(\u001b[38;5;28mself\u001b[39m):\n\u001b[1;32m     50\u001b[0m     \u001b[38;5;28;01mreturn\u001b[39;00m \u001b[38;5;28mself\u001b[39m\u001b[38;5;241m.\u001b[39m_dual\n\u001b[0;32m---> 52\u001b[0m \u001b[38;5;129m@property\u001b[39m\n\u001b[1;32m     53\u001b[0m \u001b[38;5;28;01mdef\u001b[39;00m \u001b[38;5;21mnode_at_cell\u001b[39m(\u001b[38;5;28mself\u001b[39m):\n\u001b[1;32m     54\u001b[0m     \u001b[38;5;28;01mreturn\u001b[39;00m \u001b[38;5;28mself\u001b[39m\u001b[38;5;241m.\u001b[39mds[\u001b[38;5;124m\"\u001b[39m\u001b[38;5;124mnode_at_cell\u001b[39m\u001b[38;5;124m\"\u001b[39m]\u001b[38;5;241m.\u001b[39mvalues\n\u001b[1;32m     56\u001b[0m \u001b[38;5;129m@property\u001b[39m\n\u001b[1;32m     57\u001b[0m \u001b[38;5;28;01mdef\u001b[39;00m \u001b[38;5;21mnodes_at_face\u001b[39m(\u001b[38;5;28mself\u001b[39m):\n",
      "\u001b[0;31mKeyboardInterrupt\u001b[0m: "
     ]
    }
   ],
   "source": [
    "final_t = 25000 # years\n",
    "count = 0\n",
    "dt = 60 * 60 * 24 * 30\n",
    "\n",
    "profiles = []\n",
    "\n",
    "while (sia.time_elapsed * 3.14e-8) < final_t:\n",
    "    \n",
    "    sia.run_one_rk4(dt)\n",
    "    \n",
    "    profiles.append(np.diagonal(sia.grid.node_vector_to_raster(sia.grid.at_node['ice_surface']))[int(sia.Nx / 4):])\n",
    "    \n",
    "    if count % 100 == 0:\n",
    "        print('Completed ' + str(count) + ' time steps.')\n",
    "    count += 1\n",
    "    \n",
    "print('Time elapsed: ' + str(sia.time_elapsed * 3.14e-8) + ' years.')"
   ]
  },
  {
   "cell_type": "code",
   "execution_count": 69,
   "id": "cd448d4d-1aca-47dc-821a-4984a02a2443",
   "metadata": {},
   "outputs": [
    {
     "data": {
      "image/png": "[encoded data removed]",
      "text/plain": [
       "<Figure size 432x288 with 1 Axes>"
      ]
     },
     "metadata": {
      "needs_background": "light"
     },
     "output_type": "display_data"
    }
   ],
   "source": [
    "plt.plot(profiles[0])\n",
    "plt.plot(profiles[-1])\n",
    "plt.show()"
   ]
  },
  {
   "cell_type": "code",
   "execution_count": 70,
   "id": "b78e14db-c93d-41fc-a046-3290378a19e0",
   "metadata": {},
   "outputs": [
    {
     "data": {
      "image/png": "[encoded data removed]",
      "text/plain": [
       "<Figure size 576x576 with 2 Axes>"
      ]
     },
     "metadata": {
      "needs_background": "light"
     },
     "output_type": "display_data"
    }
   ],
   "source": [
    "fig, ax = plt.subplots(figsize = (8, 8))\n",
    "imshow_grid(sia.grid, 'ice_thickness')"
   ]
  },
  {
   "cell_type": "markdown",
   "id": "95155a70-f502-446b-9a29-f48a81b1e830",
   "metadata": {},
   "source": [
    "### B) Similarity solution with moving margin and zero accumulation"
   ]
  },
  {
   "cell_type": "markdown",
   "id": "2314f90e-5878-48d8-a1d4-984bb2772d1d",
   "metadata": {},
   "source": [
    "### C) Similarity solution with no initial ice thickness"
   ]
  },
  {
   "cell_type": "markdown",
   "id": "6e2e79cf-3521-437b-aa8a-3829e4300e15",
   "metadata": {},
   "source": [
    "### D) Oscillating accumulation"
   ]
  },
  {
   "cell_type": "markdown",
   "id": "29e346d0-d775-497e-8a27-190ff85b21d2",
   "metadata": {},
   "source": [
    "### E) Steady-state with linear basal sliding"
   ]
  }
 ],
 "metadata": {
  "kernelspec": {
   "display_name": "Python 3 (ipykernel)",
   "language": "python",
   "name": "python3"
  },
  "language_info": {
   "codemirror_mode": {
    "name": "ipython",
    "version": 3
   },
   "file_extension": ".py",
   "mimetype": "text/x-python",
   "name": "python",
   "nbconvert_exporter": "python",
   "pygments_lexer": "ipython3",
   "version": "3.10.4"
  }
 },
 "nbformat": 4,
 "nbformat_minor": 5
}
