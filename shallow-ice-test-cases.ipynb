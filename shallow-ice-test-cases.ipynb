{
 "cells": [
  {
   "cell_type": "markdown",
   "id": "dfd52a9d-aa1f-4079-b664-f6ad98d14684",
   "metadata": {},
   "source": [
    "## Algorithm description"
   ]
  },
  {
   "cell_type": "markdown",
   "id": "ad6291ff-ad24-4785-b280-9b47eeb156b1",
   "metadata": {},
   "source": [
    "## Test suite"
   ]
  },
  {
   "cell_type": "markdown",
   "id": "82830b79-a518-43f1-b866-3f3c5c23c783",
   "metadata": {},
   "source": [
    "The test suite follows the experiments outlined by Bueler and others: \n",
    "\n",
    "Bueler, E., Lingle, C. S., Kallen-Brown, J. A., Covey, D. N., & Bowman, L. N. (2005). Exact solutions and verification of numerical models for isothermal ice sheets. Journal of Glaciology, 51(173), 291-306."
   ]
  },
  {
   "cell_type": "markdown",
   "id": "f2a156b0-cd0c-48b3-860b-f854bf049bcf",
   "metadata": {},
   "source": [
    "### A) Steady-state, constant accumulation"
   ]
  },
  {
   "cell_type": "markdown",
   "id": "95155a70-f502-446b-9a29-f48a81b1e830",
   "metadata": {},
   "source": [
    "### B) "
   ]
  }
 ],
 "metadata": {
  "kernelspec": {
   "display_name": "Python 3 (ipykernel)",
   "language": "python",
   "name": "python3"
  },
  "language_info": {
   "codemirror_mode": {
    "name": "ipython",
    "version": 3
   },
   "file_extension": ".py",
   "mimetype": "text/x-python",
   "name": "python",
   "nbconvert_exporter": "python",
   "pygments_lexer": "ipython3",
   "version": "3.10.4"
  }
 },
 "nbformat": 4,
 "nbformat_minor": 5
}
